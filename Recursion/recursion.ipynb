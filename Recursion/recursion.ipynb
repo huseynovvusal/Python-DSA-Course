{
 "cells": [
  {
   "cell_type": "code",
   "execution_count": 4,
   "metadata": {},
   "outputs": [],
   "source": [
    "# 5! = 5 * 4!\n",
    "# 4! = 4 * 3!\n",
    "# 3! = 3 * 2!\n",
    "# 2! = 2 * 1!\n",
    "# 1! = 1 * 0!\n",
    "# 0! = 1\n",
    "\n",
    "def factorial(n):\n",
    "    if(n <= 1): return 1\n",
    "    \n",
    "    return n * factorial(n - 1)\n",
    "\n",
    "# f(3) = 3 * 2 = 6\n",
    "# f(2) = 2 * 1 = 2\n",
    "# f(1) = 1 * 1 = 1\n",
    "# f(0) = 1"
   ]
  },
  {
   "cell_type": "code",
   "execution_count": 6,
   "metadata": {},
   "outputs": [
    {
     "data": {
      "text/plain": [
       "24"
      ]
     },
     "execution_count": 6,
     "metadata": {},
     "output_type": "execute_result"
    }
   ],
   "source": [
    "factorial(4)"
   ]
  },
  {
   "cell_type": "code",
   "execution_count": 9,
   "metadata": {},
   "outputs": [],
   "source": [
    "def f(n):\n",
    "    if(n == 0): return 0\n",
    "\n",
    "    if(n % 2 == 0): return f(n - 1)\n",
    "\n",
    "    return n + f(n - 1)"
   ]
  },
  {
   "cell_type": "code",
   "execution_count": null,
   "metadata": {},
   "outputs": [
    {
     "data": {
      "text/plain": [
       "9"
      ]
     },
     "execution_count": 10,
     "metadata": {},
     "output_type": "execute_result"
    }
   ],
   "source": [
    "f(5) # 1 + 3 + 5 = 9"
   ]
  },
  {
   "cell_type": "code",
   "execution_count": 11,
   "metadata": {},
   "outputs": [],
   "source": [
    "def f(n):\n",
    "    if(n == 0): return 0\n",
    "\n",
    "    return n + f(n - 1)"
   ]
  },
  {
   "cell_type": "code",
   "execution_count": 12,
   "metadata": {},
   "outputs": [
    {
     "data": {
      "text/plain": [
       "15"
      ]
     },
     "execution_count": 12,
     "metadata": {},
     "output_type": "execute_result"
    }
   ],
   "source": [
    "f(5)"
   ]
  },
  {
   "cell_type": "code",
   "execution_count": 13,
   "metadata": {},
   "outputs": [],
   "source": [
    "# 0 1 1 2 3 5 8 ...\n",
    "\n",
    "def fibonacci(n):\n",
    "    if(n <= 1): return n\n",
    "\n",
    "    return fibonacci(n - 1) + fibonacci(n - 2)"
   ]
  },
  {
   "cell_type": "code",
   "execution_count": 19,
   "metadata": {},
   "outputs": [
    {
     "data": {
      "text/plain": [
       "2"
      ]
     },
     "execution_count": 19,
     "metadata": {},
     "output_type": "execute_result"
    }
   ],
   "source": [
    "fibonacci(3)"
   ]
  },
  {
   "cell_type": "code",
   "execution_count": 22,
   "metadata": {},
   "outputs": [
    {
     "data": {
      "text/plain": [
       "6"
      ]
     },
     "execution_count": 22,
     "metadata": {},
     "output_type": "execute_result"
    }
   ],
   "source": [
    "def recursive_sum(numbers):\n",
    "    if(not numbers): return 0\n",
    "\n",
    "    return numbers[0] + recursive_sum(numbers[1:])\n",
    "\n",
    "# f([1,2,3]) = 1 + f([2,3]) = 6\n",
    "# f([2,3]) = 2 + f([3]) = 5\n",
    "# f([3]) = 3 + f([]) = 3\n",
    "# f([]) = 0\n",
    "\n",
    "recursive_sum([1,2,3])\n"
   ]
  },
  {
   "cell_type": "code",
   "execution_count": 23,
   "metadata": {},
   "outputs": [
    {
     "data": {
      "text/plain": [
       "'olleh'"
      ]
     },
     "execution_count": 23,
     "metadata": {},
     "output_type": "execute_result"
    }
   ],
   "source": [
    "def reverse_string(s):\n",
    "    if(not s): return \"\"\n",
    "\n",
    "    return s[-1] + reverse_string(s[:-1])\n",
    "\n",
    "# f(\"hello\") = \"o\" + f(\"hell\") = olleh\n",
    "# f(\"hell\") = \"l\" + f(\"hel\") = lleh\n",
    "# f(\"hel\") = \"l\" + f(\"he\") = leh\n",
    "# f(\"he\") = \"e\" + f(\"h\") = eh\n",
    "# f(\"h\") = \"h\" + f(\"\") = h\n",
    "# f(\"\") = \"\"\n",
    "\n",
    "reverse_string(\"hello\")"
   ]
  }
 ],
 "metadata": {
  "kernelspec": {
   "display_name": "Python 3",
   "language": "python",
   "name": "python3"
  },
  "language_info": {
   "codemirror_mode": {
    "name": "ipython",
    "version": 3
   },
   "file_extension": ".py",
   "mimetype": "text/x-python",
   "name": "python",
   "nbconvert_exporter": "python",
   "pygments_lexer": "ipython3",
   "version": "3.12.6"
  }
 },
 "nbformat": 4,
 "nbformat_minor": 2
}

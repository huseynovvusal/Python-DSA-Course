{
 "cells": [
  {
   "cell_type": "code",
   "execution_count": 21,
   "metadata": {},
   "outputs": [],
   "source": [
    "class Graph:\n",
    "    def __init__(self):\n",
    "        self.adj_list = {}\n",
    "\n",
    "    def add_vertex(self, vertex):\n",
    "        if(vertex not in self.adj_list):\n",
    "            self.adj_list[vertex] = []\n",
    "\n",
    "    def add_edge(self, vertex1, vertex2):\n",
    "        if(vertex1 in self.adj_list and vertex2 in self.adj_list):\n",
    "            self.adj_list[vertex1].append(vertex2)\n",
    "            self.adj_list[vertex2].append(vertex1)\n",
    "\n",
    "    def remove_edge(self, vertex1, vertex2):\n",
    "        if(vertex1 in self.adj_list and vertex2 in self.adj_list):\n",
    "            self.adj_list[vertex1].remove(vertex2)\n",
    "            self.adj_list[vertex2].remove(vertex1)\n",
    "\n",
    "    def remove_vertex(self, vertex):\n",
    "        if(vertex in self.adj_list):\n",
    "            for neighbor in self.adj_list[vertex]:\n",
    "                self.adj_list[neighbor].remove(vertex)\n",
    "\n",
    "            # self.adj_list.pop(vertex)\n",
    "            del self.adj_list[vertex]\n",
    "\n",
    "    def print(self):\n",
    "        for v in self.adj_list:\n",
    "            print(v, \" -> \", self.adj_list[v])"
   ]
  },
  {
   "cell_type": "code",
   "execution_count": null,
   "metadata": {},
   "outputs": [],
   "source": [
    "graph = Graph()\n",
    "\n",
    "graph.add_vertex(\"A\")\n",
    "graph.add_vertex(\"B\")\n",
    "graph.add_vertex(\"C\")\n",
    "graph.add_vertex(\"D\")\n",
    "graph.add_vertex(\"E\")\n",
    "\n",
    "graph.add_edge(\"A\", \"B\")\n",
    "graph.add_edge(\"A\", \"C\")\n",
    "graph.add_edge(\"B\", \"D\")\n",
    "graph.add_edge(\"C\", \"D\")\n",
    "graph.add_edge(\"D\", \"E\")\n",
    "\n",
    "# graph.remove_edge(\"D\", \"E\")\n",
    "graph.remove_vertex(\"D\")"
   ]
  },
  {
   "cell_type": "code",
   "execution_count": 20,
   "metadata": {},
   "outputs": [
    {
     "name": "stdout",
     "output_type": "stream",
     "text": [
      "A  ->  ['B', 'C']\n",
      "B  ->  ['A']\n",
      "C  ->  ['A']\n",
      "E  ->  []\n"
     ]
    }
   ],
   "source": [
    "graph.print()"
   ]
  }
 ],
 "metadata": {
  "kernelspec": {
   "display_name": "Python 3",
   "language": "python",
   "name": "python3"
  },
  "language_info": {
   "codemirror_mode": {
    "name": "ipython",
    "version": 3
   },
   "file_extension": ".py",
   "mimetype": "text/x-python",
   "name": "python",
   "nbconvert_exporter": "python",
   "pygments_lexer": "ipython3",
   "version": "3.12.6"
  }
 },
 "nbformat": 4,
 "nbformat_minor": 2
}

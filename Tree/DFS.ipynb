{
 "cells": [
  {
   "cell_type": "code",
   "execution_count": 2,
   "metadata": {},
   "outputs": [],
   "source": [
    "class Node:\n",
    "    def __init__(self,value):\n",
    "        self.value = value\n",
    "        self.left = None\n",
    "        self.right = None"
   ]
  },
  {
   "cell_type": "code",
   "execution_count": 3,
   "metadata": {},
   "outputs": [],
   "source": [
    "class BST:\n",
    "    def __init__(self):\n",
    "        self.root = None\n",
    "\n",
    "    def insert(self, value):\n",
    "        new_node = Node(value)\n",
    "\n",
    "        if(not self.root):\n",
    "            self.root = new_node\n",
    "            return\n",
    "\n",
    "        current = self.root\n",
    "\n",
    "        while(current):\n",
    "            if(value < current.value):\n",
    "                if(current.left is None):\n",
    "                    current.left = new_node\n",
    "                    return\n",
    "\n",
    "                current = current.left\n",
    "\n",
    "            elif(value > current.value):\n",
    "                if(current.right is None):\n",
    "                    current.right = new_node\n",
    "                    return\n",
    "\n",
    "                current = current.right"
   ]
  },
  {
   "cell_type": "code",
   "execution_count": 4,
   "metadata": {},
   "outputs": [],
   "source": [
    "bst = BST()\n",
    "\n",
    "bst.insert(15)\n",
    "bst.insert(10)\n",
    "bst.insert(20)\n",
    "bst.insert(5)\n",
    "bst.insert(25)"
   ]
  },
  {
   "cell_type": "code",
   "execution_count": 5,
   "metadata": {},
   "outputs": [
    {
     "name": "stdout",
     "output_type": "stream",
     "text": [
      "15\n",
      "10\n",
      "5\n",
      "20\n",
      "25\n"
     ]
    }
   ],
   "source": [
    "def preorder(root):\n",
    "    print(root.value)\n",
    "\n",
    "    if(root.left): preorder(root.left)\n",
    "    if(root.right): preorder(root.right)\n",
    "\n",
    "preorder(bst.root)"
   ]
  },
  {
   "cell_type": "code",
   "execution_count": 7,
   "metadata": {},
   "outputs": [
    {
     "name": "stdout",
     "output_type": "stream",
     "text": [
      "5\n",
      "10\n",
      "15\n",
      "20\n",
      "25\n"
     ]
    }
   ],
   "source": [
    "def inorder(root):\n",
    "    if(root.left): inorder(root.left)\n",
    "    print(root.value)\n",
    "    if(root.right): inorder(root.right)\n",
    "\n",
    "inorder(bst.root)"
   ]
  },
  {
   "cell_type": "code",
   "execution_count": 8,
   "metadata": {},
   "outputs": [
    {
     "name": "stdout",
     "output_type": "stream",
     "text": [
      "5\n",
      "10\n",
      "25\n",
      "20\n",
      "15\n"
     ]
    }
   ],
   "source": [
    "def postorder(root):\n",
    "    if(root.left): postorder(root.left)\n",
    "    if(root.right): postorder(root.right)\n",
    "    \n",
    "    print(root.value)\n",
    "\n",
    "postorder(bst.root)"
   ]
  },
  {
   "cell_type": "code",
   "execution_count": 22,
   "metadata": {},
   "outputs": [],
   "source": [
    "bst = BST()\n",
    "\n",
    "bst.insert(1)\n",
    "bst.insert(2)\n",
    "bst.insert(5)\n",
    "bst.insert(4)\n",
    "bst.insert(6)"
   ]
  },
  {
   "cell_type": "code",
   "execution_count": 23,
   "metadata": {},
   "outputs": [
    {
     "name": "stdout",
     "output_type": "stream",
     "text": [
      "1\n",
      "2\n",
      "5\n",
      "4\n",
      "6\n"
     ]
    }
   ],
   "source": [
    "def dfs(root):\n",
    "    stack = [root]\n",
    "\n",
    "    while(stack):\n",
    "        current = stack.pop()\n",
    "\n",
    "        print(current.value)\n",
    "\n",
    "        if(current.right): stack.append(current.right)\n",
    "        if(current.left): stack.append(current.left)\n",
    "\n",
    "dfs(bst.root)"
   ]
  }
 ],
 "metadata": {
  "kernelspec": {
   "display_name": "Python 3",
   "language": "python",
   "name": "python3"
  },
  "language_info": {
   "codemirror_mode": {
    "name": "ipython",
    "version": 3
   },
   "file_extension": ".py",
   "mimetype": "text/x-python",
   "name": "python",
   "nbconvert_exporter": "python",
   "pygments_lexer": "ipython3",
   "version": "3.12.6"
  }
 },
 "nbformat": 4,
 "nbformat_minor": 2
}

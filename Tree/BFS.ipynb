{
 "cells": [
  {
   "cell_type": "code",
   "execution_count": 4,
   "metadata": {},
   "outputs": [],
   "source": [
    "class Node:\n",
    "    def __init__(self,value):\n",
    "        self.value = value\n",
    "        self.left = None\n",
    "        self.right = None"
   ]
  },
  {
   "cell_type": "code",
   "execution_count": 5,
   "metadata": {},
   "outputs": [],
   "source": [
    "class BST:\n",
    "    def __init__(self):\n",
    "        self.root = None\n",
    "\n",
    "    def insert(self, value):\n",
    "        new_node = Node(value)\n",
    "\n",
    "        if(not self.root):\n",
    "            self.root = new_node\n",
    "            return\n",
    "\n",
    "        current = self.root\n",
    "\n",
    "        while(current):\n",
    "            if(value < current.value):\n",
    "                if(current.left is None):\n",
    "                    current.left = new_node\n",
    "                    return\n",
    "\n",
    "                current = current.left\n",
    "\n",
    "            elif(value > current.value):\n",
    "                if(current.right is None):\n",
    "                    current.right = new_node\n",
    "                    return\n",
    "\n",
    "                current = current.right"
   ]
  },
  {
   "cell_type": "code",
   "execution_count": 7,
   "metadata": {},
   "outputs": [],
   "source": [
    "bst = BST()\n",
    "\n",
    "bst.insert(4)\n",
    "bst.insert(2)\n",
    "bst.insert(5)\n",
    "bst.insert(1)\n",
    "bst.insert(3)\n",
    "bst.insert(6)"
   ]
  },
  {
   "cell_type": "code",
   "execution_count": 8,
   "metadata": {},
   "outputs": [
    {
     "name": "stdout",
     "output_type": "stream",
     "text": [
      "4\n",
      "2\n",
      "5\n",
      "1\n",
      "3\n",
      "6\n"
     ]
    }
   ],
   "source": [
    "def bfs(root):\n",
    "    if(not root): return\n",
    "\n",
    "    queue = [root]\n",
    "\n",
    "    while(queue):\n",
    "        current = queue.pop(0)\n",
    "\n",
    "        print(current.value)\n",
    "\n",
    "        if(current.left): queue.append(current.left)\n",
    "        if(current.right): queue.append(current.right)\n",
    "\n",
    "bfs(bst.root)\n"
   ]
  }
 ],
 "metadata": {
  "kernelspec": {
   "display_name": "Python 3",
   "language": "python",
   "name": "python3"
  },
  "language_info": {
   "codemirror_mode": {
    "name": "ipython",
    "version": 3
   },
   "file_extension": ".py",
   "mimetype": "text/x-python",
   "name": "python",
   "nbconvert_exporter": "python",
   "pygments_lexer": "ipython3",
   "version": "3.12.6"
  }
 },
 "nbformat": 4,
 "nbformat_minor": 2
}

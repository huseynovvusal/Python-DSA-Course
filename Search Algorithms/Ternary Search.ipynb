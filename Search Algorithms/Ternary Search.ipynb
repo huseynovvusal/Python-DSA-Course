{
 "cells": [
  {
   "cell_type": "code",
   "execution_count": 10,
   "metadata": {},
   "outputs": [],
   "source": [
    "arr = [1,2,4,6,8,10,50,75,90,100,120,150,175]"
   ]
  },
  {
   "cell_type": "code",
   "execution_count": 11,
   "metadata": {},
   "outputs": [],
   "source": [
    "def ternary_search(arr,target):\n",
    "    l = 0\n",
    "    r = len(arr) - 1\n",
    "\n",
    "    while(l <= r):\n",
    "        mid1 = l + (r - l) // 3\n",
    "        mid2 = r - (r - l) // 3\n",
    "\n",
    "        if(target == arr[mid1]): return mid1\n",
    "        if(target == arr[mid2]): return mid2\n",
    "\n",
    "        if(target < arr[mid1]): r = mid1 - 1\n",
    "        elif(target > arr[mid2]): l = mid2 + 1\n",
    "        else:\n",
    "            l = mid1 + 1\n",
    "            r = mid2 - 1\n",
    "\n",
    "    return -1"
   ]
  },
  {
   "cell_type": "code",
   "execution_count": null,
   "metadata": {},
   "outputs": [
    {
     "data": {
      "text/plain": [
       "-1"
      ]
     },
     "execution_count": 12,
     "metadata": {},
     "output_type": "execute_result"
    }
   ],
   "source": [
    "ternary_search(arr, 200) "
   ]
  },
  {
   "cell_type": "code",
   "execution_count": 13,
   "metadata": {},
   "outputs": [
    {
     "data": {
      "text/plain": [
       "6"
      ]
     },
     "execution_count": 13,
     "metadata": {},
     "output_type": "execute_result"
    }
   ],
   "source": [
    "ternary_search(arr, 50)"
   ]
  }
 ],
 "metadata": {
  "kernelspec": {
   "display_name": "Python 3",
   "language": "python",
   "name": "python3"
  },
  "language_info": {
   "codemirror_mode": {
    "name": "ipython",
    "version": 3
   },
   "file_extension": ".py",
   "mimetype": "text/x-python",
   "name": "python",
   "nbconvert_exporter": "python",
   "pygments_lexer": "ipython3",
   "version": "3.12.6"
  }
 },
 "nbformat": 4,
 "nbformat_minor": 2
}

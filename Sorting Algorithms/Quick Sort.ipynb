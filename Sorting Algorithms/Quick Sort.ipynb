{
 "cells": [
  {
   "cell_type": "code",
   "execution_count": 4,
   "metadata": {},
   "outputs": [],
   "source": [
    "def partition(arr, low, high):\n",
    "    pivot = arr[high]\n",
    "\n",
    "    i = low - 1\n",
    "\n",
    "    for j in range(low,high):\n",
    "        if(arr[j] <= pivot):\n",
    "            i += 1\n",
    "            arr[i], arr[j] = arr[j], arr[i]\n",
    "\n",
    "    arr[i+1], arr[high] = arr[high], arr[i+1]\n",
    "\n",
    "    return i + 1\n",
    "\n",
    "def quick_sort(arr, low = 0, high = None):\n",
    "    if(high is None): high = len(arr) - 1\n",
    "\n",
    "    if(low < high):\n",
    "        pivot_index = partition(arr, low, high)\n",
    "\n",
    "        quick_sort(arr, low, pivot_index - 1)\n",
    "        quick_sort(arr, pivot_index + 1, high)\n",
    "\n",
    "    return arr\n",
    "    "
   ]
  },
  {
   "cell_type": "code",
   "execution_count": 6,
   "metadata": {},
   "outputs": [
    {
     "data": {
      "text/plain": [
       "[4, 9, 10, 10, 20, 20, 45, 50, 55, 80, 110, 200, 500, 600]"
      ]
     },
     "execution_count": 6,
     "metadata": {},
     "output_type": "execute_result"
    }
   ],
   "source": [
    "quick_sort([10, 9, 4, 20, 10, 50, 80, 200, 110, 500, 45, 600, 20, 55])"
   ]
  }
 ],
 "metadata": {
  "kernelspec": {
   "display_name": "Python 3",
   "language": "python",
   "name": "python3"
  },
  "language_info": {
   "codemirror_mode": {
    "name": "ipython",
    "version": 3
   },
   "file_extension": ".py",
   "mimetype": "text/x-python",
   "name": "python",
   "nbconvert_exporter": "python",
   "pygments_lexer": "ipython3",
   "version": "3.12.6"
  }
 },
 "nbformat": 4,
 "nbformat_minor": 2
}

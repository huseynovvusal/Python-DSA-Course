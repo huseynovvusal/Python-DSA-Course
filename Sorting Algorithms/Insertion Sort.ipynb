{
 "cells": [
  {
   "cell_type": "code",
   "execution_count": 7,
   "metadata": {},
   "outputs": [],
   "source": [
    "def insertion_sort(arr):\n",
    "    n = len(arr)\n",
    "\n",
    "    for i in range(1, n):\n",
    "        insert_index = i\n",
    "        current_value = arr.pop(i)\n",
    "\n",
    "        for j in range(i - 1, -1, -1): # [0; i - 1]\n",
    "            if(arr[j] > current_value):\n",
    "                insert_index = j\n",
    "\n",
    "        arr.insert(insert_index, current_value)\n",
    "\n",
    "    return arr\n"
   ]
  },
  {
   "cell_type": "code",
   "execution_count": 8,
   "metadata": {},
   "outputs": [
    {
     "name": "stdout",
     "output_type": "stream",
     "text": [
      "[1, 2, 3, 4, 5, 6]\n"
     ]
    }
   ],
   "source": [
    "print(insertion_sort([5, 2, 4, 6, 1, 3]))"
   ]
  },
  {
   "cell_type": "code",
   "execution_count": 12,
   "metadata": {},
   "outputs": [],
   "source": [
    "def insertion_sort(arr):\n",
    "    n = len(arr)\n",
    "\n",
    "    for i in range(1, n):\n",
    "        insert_index = i\n",
    "        current_value = arr[i]\n",
    "\n",
    "        for j in range(i - 1, -1, -1): # [0; i - 1]\n",
    "            if(arr[j] > current_value):\n",
    "                arr[j + 1] = arr[j]\n",
    "                insert_index = j\n",
    "            else:\n",
    "                break\n",
    "\n",
    "        arr[insert_index] = current_value\n",
    "\n",
    "    return arr\n"
   ]
  },
  {
   "cell_type": "code",
   "execution_count": 13,
   "metadata": {},
   "outputs": [
    {
     "name": "stdout",
     "output_type": "stream",
     "text": [
      "[1, 2, 3, 4, 5, 6]\n"
     ]
    }
   ],
   "source": [
    "print(insertion_sort([5, 2, 4, 6, 1, 3]))"
   ]
  }
 ],
 "metadata": {
  "kernelspec": {
   "display_name": "Python 3",
   "language": "python",
   "name": "python3"
  },
  "language_info": {
   "codemirror_mode": {
    "name": "ipython",
    "version": 3
   },
   "file_extension": ".py",
   "mimetype": "text/x-python",
   "name": "python",
   "nbconvert_exporter": "python",
   "pygments_lexer": "ipython3",
   "version": "3.12.6"
  }
 },
 "nbformat": 4,
 "nbformat_minor": 2
}
